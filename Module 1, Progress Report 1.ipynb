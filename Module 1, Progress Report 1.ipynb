{
 "cells": [
  {
   "cell_type": "markdown",
   "metadata": {},
   "source": [
    "# Progress Report 1, Module 1\n",
    "### Physics/Biology 212, Spring 2020\n",
    "## Name"
   ]
  },
  {
   "cell_type": "markdown",
   "metadata": {},
   "source": [
    "## Exercises from Jupyter notebook\n",
    "### Your turn 1\n",
    "Give three examples of system-model pairs."
   ]
  },
  {
   "cell_type": "markdown",
   "metadata": {},
   "source": [
    "Your answer:"
   ]
  },
  {
   "cell_type": "markdown",
   "metadata": {},
   "source": [
    "### Your turn 2\n",
    "For the examples you gave above, discuss when the model is good and when the model is bad."
   ]
  },
  {
   "cell_type": "markdown",
   "metadata": {},
   "source": [
    "Your answer:"
   ]
  },
  {
   "cell_type": "markdown",
   "metadata": {},
   "source": [
    "### Your turn 3\n",
    "Give three examples of probabilistic and deterministic computational models from physics, chemistry and biology. Do not just focus on motion, but think about quantum mechanics, mutations, ecological interactions, and so on."
   ]
  },
  {
   "cell_type": "markdown",
   "metadata": {},
   "source": [
    "Your answer:"
   ]
  },
  {
   "cell_type": "markdown",
   "metadata": {},
   "source": [
    "### Your turn 4\n",
    "Give three examples of static and dynamic computational models from physics, chemistry and biology."
   ]
  },
  {
   "cell_type": "markdown",
   "metadata": {},
   "source": [
    "Your answer:"
   ]
  },
  {
   "cell_type": "markdown",
   "metadata": {},
   "source": [
    "### Your turn 5\n",
    "Give three examples of spatially extended and point computational models from physics, chemistry and biology."
   ]
  },
  {
   "cell_type": "markdown",
   "metadata": {},
   "source": [
    "Your answer:"
   ]
  },
  {
   "cell_type": "markdown",
   "metadata": {},
   "source": [
    "### Your turn 6\n",
    "Give three examples of continuous vs. discrete time computational models from physics, chemistry and biology. Notice that the same process can be modeled in either way depending on the question one is trying to answer, and depending on modeling assumptions."
   ]
  },
  {
   "cell_type": "markdown",
   "metadata": {},
   "source": [
    "Your answer:"
   ]
  },
  {
   "cell_type": "markdown",
   "metadata": {},
   "source": [
    "### Your turn 7\n",
    "Give three examples of continuous vs. discrete space computational models from physics, chemistry and biology. Notice that the same process can be modeled in either way depending on the question one is trying to answer, and depending on modeling assumptions."
   ]
  },
  {
   "cell_type": "markdown",
   "metadata": {},
   "source": [
    "Your answer:"
   ]
  },
  {
   "cell_type": "markdown",
   "metadata": {},
   "source": [
    "## Exercises from the *Student Guide*\n",
    "Note that the beginning of the exercises explains to you how to use the Spyder IDE. I'd like you to do that as well, so that you are at least aware of it's existence and how it works. However, you do not need to submit the Spyder code or output here. Even if the *Guide* asks you to work in Spyder, submit the code as a Jupyter notebook instead.\n",
    "\n",
    "### Section 1.1.3 of the *Student Guide*\n",
    "Type the Python code from the section. Execute it. Then type *a* and *b* to check what the value of the variables is. Do the values match your expectations?"
   ]
  },
  {
   "cell_type": "code",
   "execution_count": null,
   "metadata": {},
   "outputs": [],
   "source": []
  },
  {
   "cell_type": "markdown",
   "metadata": {},
   "source": [
    "### Section 1.2.1, Example 1 "
   ]
  },
  {
   "cell_type": "code",
   "execution_count": null,
   "metadata": {},
   "outputs": [],
   "source": []
  },
  {
   "cell_type": "markdown",
   "metadata": {},
   "source": [
    "### Section 1.2.1, Example 2"
   ]
  },
  {
   "cell_type": "code",
   "execution_count": null,
   "metadata": {},
   "outputs": [],
   "source": []
  },
  {
   "cell_type": "markdown",
   "metadata": {},
   "source": [
    "### Section 1.2.1, Your Turn 1A\n",
    "Having found online how to take square roots in Python, write a short code that takes a square root of 10."
   ]
  },
  {
   "cell_type": "code",
   "execution_count": null,
   "metadata": {},
   "outputs": [],
   "source": []
  },
  {
   "cell_type": "markdown",
   "metadata": {},
   "source": [
    "### Section 1.3\n",
    "Type below and execute all the code snippets from this section."
   ]
  },
  {
   "cell_type": "code",
   "execution_count": null,
   "metadata": {},
   "outputs": [],
   "source": []
  },
  {
   "cell_type": "markdown",
   "metadata": {},
   "source": [
    "### Section 1.4.1 and 1.4.2\n",
    "Below type different forms of numbers, and arithmetic operations, and verify that they behave as expected, following Sections 1.4.1 and 1.4.2"
   ]
  },
  {
   "cell_type": "code",
   "execution_count": null,
   "metadata": {},
   "outputs": [],
   "source": []
  },
  {
   "cell_type": "markdown",
   "metadata": {},
   "source": [
    "### Section 1.4.3\n",
    "Below write a short piece of code that defines a variable with a name collision, that is, overwriting one of the standard Python commands, functions, or variable names. Verify that only the variable you defined is now accessible."
   ]
  },
  {
   "cell_type": "markdown",
   "metadata": {},
   "source": [
    "## Appendix B of the *Student Guide*\n",
    "Make sure to read the Appendix and that you understand everything there. No coding results required specifically for this Appendix. "
   ]
  },
  {
   "cell_type": "markdown",
   "metadata": {},
   "source": [
    "## Chapter 2 of the *Guide*"
   ]
  },
  {
   "cell_type": "markdown",
   "metadata": {},
   "source": [
    "## Section 2.1\n",
    "Create floating point, integer, and list objects as requested in this section and verify that the methods on page  18 exist, and verify what they output."
   ]
  },
  {
   "cell_type": "code",
   "execution_count": null,
   "metadata": {},
   "outputs": [],
   "source": []
  },
  {
   "cell_type": "markdown",
   "metadata": {},
   "source": [
    "## Sections 2.2.1-2.2.3\n",
    "Create the lists and the arrays as described on page 19. Do the Your Turn 2A exercise, but instead of exploring the vairable in the variable explorer, simply print the variables and see if you get what you expect."
   ]
  },
  {
   "cell_type": "code",
   "execution_count": null,
   "metadata": {},
   "outputs": [],
   "source": []
  },
  {
   "cell_type": "markdown",
   "metadata": {},
   "source": [
    "Create arrays A and B as described towards the end of page 20, and verify what you get. Then do the commands from the top of page 21, and again see if you get what you expect."
   ]
  },
  {
   "cell_type": "code",
   "execution_count": null,
   "metadata": {},
   "outputs": [],
   "source": []
  },
  {
   "cell_type": "markdown",
   "metadata": {},
   "source": [
    "Do Your Turn 2B"
   ]
  },
  {
   "cell_type": "code",
   "execution_count": null,
   "metadata": {},
   "outputs": [],
   "source": []
  },
  {
   "cell_type": "markdown",
   "metadata": {},
   "source": [
    "Do the Example from Page 20"
   ]
  },
  {
   "cell_type": "code",
   "execution_count": null,
   "metadata": {},
   "outputs": [],
   "source": []
  },
  {
   "cell_type": "markdown",
   "metadata": {},
   "source": [
    "Do your Turn 2C and the code snippet following it on page 22."
   ]
  },
  {
   "cell_type": "code",
   "execution_count": null,
   "metadata": {},
   "outputs": [],
   "source": []
  },
  {
   "cell_type": "markdown",
   "metadata": {},
   "source": [
    "### Section 2.2.4\n",
    "Define arrays a and b as described, concatenate them horizontally and vertically, and print the output."
   ]
  },
  {
   "cell_type": "code",
   "execution_count": null,
   "metadata": {},
   "outputs": [],
   "source": []
  },
  {
   "cell_type": "markdown",
   "metadata": {},
   "source": [
    "### Section 2.2.5-2.2.6\n",
    "Complete all of the code snippets in these sections. Is the output what you expected?"
   ]
  },
  {
   "cell_type": "code",
   "execution_count": null,
   "metadata": {},
   "outputs": [],
   "source": []
  },
  {
   "cell_type": "markdown",
   "metadata": {},
   "source": [
    "### Section 2.2.7, Slicing\n",
    "This section describes concepts that usually are some of the more complicated concepts for students to learn. Be extra diligent here. \n",
    "\n",
    "Execute all code snippets in the beginning of this section. Then perform Your Turn 2D. In the following Markdown cell explain the output you get."
   ]
  },
  {
   "cell_type": "code",
   "execution_count": null,
   "metadata": {},
   "outputs": [],
   "source": []
  },
  {
   "cell_type": "markdown",
   "metadata": {},
   "source": [
    "Explanation of the output: ___"
   ]
  },
  {
   "cell_type": "markdown",
   "metadata": {},
   "source": [
    "Finally finish the snippets after the Your Turn exercise."
   ]
  },
  {
   "cell_type": "code",
   "execution_count": null,
   "metadata": {},
   "outputs": [],
   "source": []
  },
  {
   "cell_type": "markdown",
   "metadata": {},
   "source": [
    "### Sections 2.2.8, 2.2.9, 2.2.10\n",
    "Do all code snippets from these sections, including the T2 section 2.2.10."
   ]
  },
  {
   "cell_type": "code",
   "execution_count": null,
   "metadata": {},
   "outputs": [],
   "source": []
  },
  {
   "cell_type": "markdown",
   "metadata": {},
   "source": [
    "## Section 2.3\n",
    "Do the code snippets from 2.3, 2.3.1 and the Your Turn 2E. You may skip 2.3.2 for the first reading."
   ]
  },
  {
   "cell_type": "code",
   "execution_count": null,
   "metadata": {},
   "outputs": [],
   "source": []
  }
 ],
 "metadata": {
  "kernelspec": {
   "display_name": "Python 3",
   "language": "python",
   "name": "python3"
  },
  "language_info": {
   "codemirror_mode": {
    "name": "ipython",
    "version": 3
   },
   "file_extension": ".py",
   "mimetype": "text/x-python",
   "name": "python",
   "nbconvert_exporter": "python",
   "pygments_lexer": "ipython3",
   "version": "3.7.1"
  }
 },
 "nbformat": 4,
 "nbformat_minor": 2
}
