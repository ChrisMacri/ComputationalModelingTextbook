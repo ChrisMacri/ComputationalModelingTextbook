{
 "cells": [
  {
   "cell_type": "markdown",
   "metadata": {},
   "source": [
    "# Chapter 2: Learning Python and solving algebraic equations\n",
    "Introduction to the Phys212/Biol212 class\n",
    "### by Ilya Nemenman, 2016-2020"
   ]
  },
  {
   "cell_type": "markdown",
   "metadata": {},
   "source": [
    "Make sure you read Chapters 1 and 2 of the *Student Guide* before this notebook, and that you read Chapters 3 and 4 in parallel with this notebook. Make sure also that you in detail study the code for the cells that I provide below, not just the output of the cells. This is essential if you want to pick up on python programming quickly."
   ]
  },
  {
   "cell_type": "markdown",
   "metadata": {},
   "source": [
    "## Some Python practice \n",
    "Let's first pre-emptively review a few elements in Python coding that many of you probably will have problems with otherwise. \n",
    "\n",
    "### Assignments and comparisons\n",
    "Let's execute the following code:"
   ]
  },
  {
   "cell_type": "code",
   "execution_count": 1,
   "metadata": {},
   "outputs": [
    {
     "name": "stdout",
     "output_type": "stream",
     "text": [
      "0\n",
      "1\n",
      "True\n"
     ]
    }
   ],
   "source": [
    "a = 0\n",
    "a == 1\n",
    "print (a)\n",
    "a = 1\n",
    "print(a)\n",
    "b = (a == 1)\n",
    "print(b)"
   ]
  },
  {
   "cell_type": "markdown",
   "metadata": {},
   "source": [
    "Note that the first line above assigns the value of 0 to the variable `a`. The second line does not do the assignment, but instead compares `a` to 1. Since the result of the comparison is not stored anywhere, it disappears. We can verify that `a` was not changed by the comparison by simply printing it. The next line, in contrast, assigns 1 to `a`. We verify that this, in fact, happened by printing the variable. We again do the comparison of `a` to 1. Notice, however, that this time we store the result of this comparison in a variable $b$, which has the value of `True`, as we can see by printing it."
   ]
  },
  {
   "cell_type": "markdown",
   "metadata": {},
   "source": [
    "### Vector operations\n",
    "You have created numpy arrays in your first lab. Why do we bother with this concept? Arrays allow us to perform vector operations -- instead of, for example, adding two arrays element by element, or copying an array element by element we can do either of these tasks in just one single operation. Let's see how this works."
   ]
  },
  {
   "cell_type": "code",
   "execution_count": 2,
   "metadata": {},
   "outputs": [
    {
     "name": "stdout",
     "output_type": "stream",
     "text": [
      "[0 1 2 3 4 5 6 7 8 9]\n",
      "[1. 1. 1. 1. 1. 1. 1. 1. 1. 1.]\n",
      "[ 1.  2.  3.  4.  5.  6.  7.  8.  9. 10.]\n"
     ]
    }
   ],
   "source": [
    "import numpy as np #importing the numpy module\n",
    "\n",
    "L = 10  # the size of the arrays we will create\n",
    "a = np.arange(L)\n",
    "b = np.ones(L)\n",
    "print(a)\n",
    "print(b)\n",
    "\n",
    "c = a + b\n",
    "print(c)"
   ]
  },
  {
   "cell_type": "markdown",
   "metadata": {},
   "source": [
    "Notice how we didn't have to create `c` separately, and in a single addition operation we were able to add all elements of `a` and `b` into `c`. Such vector operations are, of course, more elegant than doing the same element by element. Importantly, they are also faster. Let's verify this. To measure how long something takes, we need to load a new module `Time`."
   ]
  },
  {
   "cell_type": "code",
   "execution_count": 3,
   "metadata": {},
   "outputs": [
    {
     "data": {
      "text/plain": [
       "['_STRUCT_TM_ITEMS',\n",
       " '__doc__',\n",
       " '__loader__',\n",
       " '__name__',\n",
       " '__package__',\n",
       " '__spec__',\n",
       " 'altzone',\n",
       " 'asctime',\n",
       " 'clock',\n",
       " 'ctime',\n",
       " 'daylight',\n",
       " 'get_clock_info',\n",
       " 'gmtime',\n",
       " 'localtime',\n",
       " 'mktime',\n",
       " 'monotonic',\n",
       " 'monotonic_ns',\n",
       " 'perf_counter',\n",
       " 'perf_counter_ns',\n",
       " 'process_time',\n",
       " 'process_time_ns',\n",
       " 'sleep',\n",
       " 'strftime',\n",
       " 'strptime',\n",
       " 'struct_time',\n",
       " 'time',\n",
       " 'time_ns',\n",
       " 'timezone',\n",
       " 'tzname',\n",
       " 'tzset']"
      ]
     },
     "execution_count": 3,
     "metadata": {},
     "output_type": "execute_result"
    }
   ],
   "source": [
    "import time\n",
    "dir(time)"
   ]
  },
  {
   "cell_type": "markdown",
   "metadata": {},
   "source": [
    ">### Your turn 2.1\n",
    "Explore what different functions in this module do.\n",
    "\n",
    "We will be using the function `time.time()`, which return the time in seconds since the beginning of some standardized epoch as a floating point number. Notice that the function `time.time()` must be called with the parenthesis at the end. Indeed, let's try:"
   ]
  },
  {
   "cell_type": "code",
   "execution_count": 4,
   "metadata": {},
   "outputs": [
    {
     "name": "stdout",
     "output_type": "stream",
     "text": [
      "<built-in function time>\n",
      "1579790522.700278\n"
     ]
    }
   ],
   "source": [
    "print(time.time)\n",
    "print(time.time())"
   ]
  },
  {
   "cell_type": "markdown",
   "metadata": {},
   "source": [
    ">### Your turn 2.2\n",
    "Explain the results of the Python output above.\n",
    "\n",
    "Now let's see how long vector and non-vector versions of the same operations take. "
   ]
  },
  {
   "cell_type": "code",
   "execution_count": 5,
   "metadata": {},
   "outputs": [
    {
     "name": "stdout",
     "output_type": "stream",
     "text": [
      "The vector addition took 0.0016257762908935547 sec.\n"
     ]
    }
   ],
   "source": [
    "L = 100000        # length of the vectors we will operate with\n",
    "a = np.arange(L)  # creating these long vectors\n",
    "b = np.ones(L)\n",
    "\n",
    "# now let's add a and b as a vector  operation and see how long it takes\n",
    "t = time.time()   # store the current time in the variable t\n",
    "c = a+b\n",
    "print ('The vector addition took', time.time()-t, 'sec.')"
   ]
  },
  {
   "cell_type": "markdown",
   "metadata": {},
   "source": [
    ">### Your turn 2.3\n",
    "Run the cell above multiple times. Does it always time the same duration of time to execute the same command?\n",
    "\n",
    "Now let's do the same operation using element by element addition."
   ]
  },
  {
   "cell_type": "code",
   "execution_count": 6,
   "metadata": {},
   "outputs": [
    {
     "name": "stdout",
     "output_type": "stream",
     "text": [
      "Element by element addition with pre-allocated memory took 0.3539109230041504 sec.\n"
     ]
    }
   ],
   "source": [
    "t = time.time()  # store the current time in the variable t\n",
    "\n",
    "c = np.zeros(L)  # preallocate memory for an empty array\n",
    "for i in np.arange(L):  # do element-by-element addition\n",
    "    c[i] = a[i] + b[i]\n",
    "    \n",
    "print ('Element by element addition with pre-allocated memory took', time.time() - t, 'sec.')"
   ]
  },
  {
   "cell_type": "markdown",
   "metadata": {},
   "source": [
    "Notice how much longer it took to execute the same operation. But this is not the worst. Let's try the following."
   ]
  },
  {
   "cell_type": "code",
   "execution_count": 7,
   "metadata": {},
   "outputs": [
    {
     "name": "stdout",
     "output_type": "stream",
     "text": [
      "[]\n",
      "Element by element addition with pre-allocated memory took 3.1772260665893555 sec.\n"
     ]
    }
   ],
   "source": [
    "t = time.time()  # store the current time in the variable t\n",
    "\n",
    "c = np.arange(0) # create a null array (array with no elements)\n",
    "print(c)\n",
    "\n",
    "for i in np.arange(L): # do element-by-element addition while growing the array\n",
    "    c = np.hstack((c, a[i] + b[i]))\n",
    "    \n",
    "print ('Element by element addition with pre-allocated memory took', time.time() - t, 'sec.')"
   ]
  },
  {
   "cell_type": "markdown",
   "metadata": {},
   "source": [
    ">### Your turn 2.4\n",
    "Why do we use double perentheses ((...)) in the call to `np.hstack()`?\n",
    "\n",
    "Why does this happen? The vector operations are the fastest -- they are encoded using low-level computer language, and are optimized internally. The element-wise edition takes longer because at every point in the cycle the Python interpreter has to do a variety of checks, such as is `a` an array? Does it have an element `i`? And the same for `b` and `c`, and all of this takes time. Finally, in the third version, every time we stack the arrays together, a new array gets created. **We will discuss this in class in more detail, and I wil add a figure later to explain this.**"
   ]
  },
  {
   "cell_type": "markdown",
   "metadata": {},
   "source": [
    "## Solving a quadratic equation\n",
    "\n",
    "Let's say we want to solve a quadratic equation $$ax^2+bx+c=0.$$ The two solutions of this are given by $$x_{1,2}=\\frac{-b\\pm \\sqrt{b^2-4ac}}{2a},$$\n",
    "where $D=b^2-4ac$ is called the discriminant. Let's write a short script to solve this. \n",
    "\n",
    "We start with the initialization block. Normally we would import `numpy` and other modules here as well, but now we do not need to do this, this numpy was just imported above."
   ]
  },
  {
   "cell_type": "code",
   "execution_count": 8,
   "metadata": {},
   "outputs": [],
   "source": [
    "a = 1.0  #initializing parameter values\n",
    "b = 2.0\n",
    "c = -2.0"
   ]
  },
  {
   "cell_type": "markdown",
   "metadata": {},
   "source": [
    "Now we calculate the square root of the determinant using the `numpy.np` function, and print the two roots."
   ]
  },
  {
   "cell_type": "code",
   "execution_count": 9,
   "metadata": {},
   "outputs": [
    {
     "name": "stdout",
     "output_type": "stream",
     "text": [
      "0.7320508075688772\n",
      "-2.732050807568877\n"
     ]
    }
   ],
   "source": [
    "sD = np.sqrt(b**2-4*a*c)\n",
    "x1 = (-b+sD)/(2*a)\n",
    "x2 = (-b-sD)/(2*a)\n",
    "\n",
    "print(x1)\n",
    "print(x2)"
   ]
  },
  {
   "cell_type": "markdown",
   "metadata": {},
   "source": [
    "This code would work well often, but not always. For example, change `c` to 2.0 above and rerun the cell. What happened? This introduces the idea of checking of exceptions: what if the discriminant is zero? or negative? or if `a` is equal to 0? \n",
    "\n",
    ">### Your turn 2.5\n",
    "Change the code for solving the quadratic equations to address all possible exceptions you can think of, so that the code runs for all values of the parameters `a`, `b`, and `c`. \n",
    "\n",
    ">### Track 2\n",
    "Rewrite the code above to work with complex numbers."
   ]
  },
  {
   "cell_type": "markdown",
   "metadata": {},
   "source": [
    ">### Your turn 2.6\n",
    "Additional exercise: Evaluate a binary log (log base 2) of a number 42 using at least three different sets of commands imported from `numpy`. Verify your result by taking 2 to the appropriate power and seeing if you get 42 back. For this, you will need to remind yourself how logarithms with different bases relate to each other."
   ]
  },
  {
   "cell_type": "markdown",
   "metadata": {},
   "source": [
    "## More to come"
   ]
  },
  {
   "cell_type": "code",
   "execution_count": null,
   "metadata": {},
   "outputs": [],
   "source": [
    " "
   ]
  }
 ],
 "metadata": {
  "kernelspec": {
   "display_name": "Python 3",
   "language": "python",
   "name": "python3"
  },
  "language_info": {
   "codemirror_mode": {
    "name": "ipython",
    "version": 3
   },
   "file_extension": ".py",
   "mimetype": "text/x-python",
   "name": "python",
   "nbconvert_exporter": "python",
   "pygments_lexer": "ipython3",
   "version": "3.7.1"
  }
 },
 "nbformat": 4,
 "nbformat_minor": 2
}
