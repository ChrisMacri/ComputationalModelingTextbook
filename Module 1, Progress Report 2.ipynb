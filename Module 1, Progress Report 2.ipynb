{
 "cells": [
  {
   "cell_type": "markdown",
   "metadata": {},
   "source": [
    "# Progress Report 2, Module 1\n",
    "### Physics/Biology 212, Spring 2020\n",
    "Designed by Ilya Nemenman, 2020\n",
    "\n",
    "## Student Name:\n",
    "### Group members, if any:\n",
    "### Date:"
   ]
  },
  {
   "cell_type": "markdown",
   "metadata": {},
   "source": [
    "Start with installing Anaconda and launching Spyder and Jupyter notebooks, and making sure that they actually work. Then complete the following exercises. \n",
    "\n",
    "## Exercises from *Module 1* Jupyter notebook\n",
    "### Your turn 2.1\n",
    "Explore what different functions in this module do. For this, search the documentation for at least 3 functions in the module, execute them in the box below, and explain the output."
   ]
  },
  {
   "cell_type": "code",
   "execution_count": null,
   "metadata": {},
   "outputs": [],
   "source": []
  },
  {
   "cell_type": "markdown",
   "metadata": {},
   "source": [
    "###  Your turn 2.2\n",
    "Explain the results of the Python output above. (In reference to `time.time()` function.)"
   ]
  },
  {
   "cell_type": "markdown",
   "metadata": {},
   "source": [
    "Your answer:"
   ]
  },
  {
   "cell_type": "markdown",
   "metadata": {},
   "source": [
    "### Your turn 2.3\n",
    "Run the cell (timing of array addition) above multiple times. Does it always time the same duration of time to execute the same command? While you can just do this many times and report the measured times, I suggest you try instead to encapsulate the timing operation into a `for` loop, so that a single execution measures the timing multiple times.\n",
    "\n"
   ]
  },
  {
   "cell_type": "code",
   "execution_count": null,
   "metadata": {},
   "outputs": [],
   "source": []
  },
  {
   "cell_type": "markdown",
   "metadata": {},
   "source": [
    "### Your turn 2.4\n",
    "Why do we use double perentheses ((...)) in the call to `np.hstack()`?"
   ]
  },
  {
   "cell_type": "markdown",
   "metadata": {},
   "source": [
    "Your answer:"
   ]
  },
  {
   "cell_type": "markdown",
   "metadata": {},
   "source": [
    "### Your turn 2.5\n",
    "Change the code for solving the quadratic equations to address all possible exceptions you can think of, so that the code runs for all values of the parameters `a`, `b`, and `c`. \n"
   ]
  },
  {
   "cell_type": "code",
   "execution_count": null,
   "metadata": {},
   "outputs": [],
   "source": []
  },
  {
   "cell_type": "markdown",
   "metadata": {},
   "source": [
    "### Your turn 2.6\n",
    "Additional exercise: Evaluate a binary log (log base 2) of a number 42 using at least three different sets of commands imported from `numpy`. Verify your result by taking 2 to the appropriate power and seeing if you get 42 back. For this, you will need to remind yourself how logarithms with different bases relate to each other."
   ]
  },
  {
   "cell_type": "code",
   "execution_count": null,
   "metadata": {},
   "outputs": [],
   "source": []
  },
  {
   "cell_type": "markdown",
   "metadata": {},
   "source": [
    "## Exercises from the *Student Guide*\n",
    "Note that the beginning of the exercises explains to you how to use the Spyder IDE. I'd like you to do that as well, so that you are at least aware of it's existence and how it works. However, you do not need to submit the Spyder code or output here. Even if the *Guide* asks you to work in Spyder, submit the code as a Jupyter notebook instead.\n",
    "\n",
    "### Section 3.1.1 of the *Student Guide*\n",
    "Type both long Python code snippets from the section. Execute them, modify the code as asked in the book (if applicable), and execute again. Verify that the code runs as expected. "
   ]
  },
  {
   "cell_type": "code",
   "execution_count": null,
   "metadata": {},
   "outputs": [],
   "source": []
  },
  {
   "cell_type": "markdown",
   "metadata": {},
   "source": [
    "### Section 3.1.2\n",
    "Run the Python code snippets from the section, verify that it executes as expected. "
   ]
  },
  {
   "cell_type": "code",
   "execution_count": null,
   "metadata": {},
   "outputs": [],
   "source": []
  },
  {
   "cell_type": "markdown",
   "metadata": {},
   "source": [
    "### Section 3.2.1\n",
    "Run all of the code snippets from the section. Then solve Your Turn 3A."
   ]
  },
  {
   "cell_type": "code",
   "execution_count": null,
   "metadata": {},
   "outputs": [],
   "source": []
  },
  {
   "cell_type": "markdown",
   "metadata": {},
   "source": [
    "### Section 3.2.2\n",
    "Execute the code snippet from this section, print the value of the dot product. "
   ]
  },
  {
   "cell_type": "code",
   "execution_count": null,
   "metadata": {},
   "outputs": [],
   "source": []
  },
  {
   "cell_type": "markdown",
   "metadata": {},
   "source": [
    "### Section 3.2.3\n",
    "Run the code snippets from the section. Explain what you see."
   ]
  },
  {
   "cell_type": "code",
   "execution_count": null,
   "metadata": {},
   "outputs": [],
   "source": []
  },
  {
   "cell_type": "markdown",
   "metadata": {},
   "source": [
    "### Section 3.3.3, 3.3.4, 3.3.5, 3.3.6\n",
    "Some of these sections only apply to Spyder, but not to Jupyter notebooks. I am not asking you to report any results here, but please read the sections carefully. These are, in fact, some of the most important sections of the Guide, as they teach you good programming habits, which your Python interpreter won't be able to advise you on."
   ]
  },
  {
   "cell_type": "markdown",
   "metadata": {},
   "source": [
    "### Section 3.4\n",
    "Execute the code in this section and try to undertsnad it. \n",
    "Below write a short piece of code that defines a variable with a name collision, that is, overwriting one of the standard Python commands, functions, or variable names. Verify that only the variable you defined is now accessible."
   ]
  },
  {
   "cell_type": "code",
   "execution_count": null,
   "metadata": {},
   "outputs": [],
   "source": []
  },
  {
   "cell_type": "markdown",
   "metadata": {},
   "source": [
    "### Section 3.4.2\n",
    "Execute the script in this section, and verify that it doesn't terminate. Change the comparison so that it works. (Hint: compare if one number falls within a certain range from the other)."
   ]
  },
  {
   "cell_type": "code",
   "execution_count": null,
   "metadata": {},
   "outputs": [],
   "source": []
  },
  {
   "cell_type": "markdown",
   "metadata": {},
   "source": [
    "### Section 3.4.5 \n",
    "Change the script to output `i` and `k` in every iteration of both cycles. Execute the script and make sure you understand it. "
   ]
  },
  {
   "cell_type": "code",
   "execution_count": null,
   "metadata": {},
   "outputs": [],
   "source": []
  }
 ],
 "metadata": {
  "kernelspec": {
   "display_name": "Python 3",
   "language": "python",
   "name": "python3"
  },
  "language_info": {
   "codemirror_mode": {
    "name": "ipython",
    "version": 3
   },
   "file_extension": ".py",
   "mimetype": "text/x-python",
   "name": "python",
   "nbconvert_exporter": "python",
   "pygments_lexer": "ipython3",
   "version": "3.7.1"
  }
 },
 "nbformat": 4,
 "nbformat_minor": 2
}
